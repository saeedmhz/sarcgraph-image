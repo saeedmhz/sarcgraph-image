{
 "cells": [
  {
   "cell_type": "code",
   "execution_count": 1,
   "id": "af47b943",
   "metadata": {},
   "outputs": [],
   "source": [
    "import os\n",
    "import requests"
   ]
  },
  {
   "cell_type": "code",
   "execution_count": 2,
   "id": "e10e27fc",
   "metadata": {},
   "outputs": [],
   "source": [
    "# The dataset DOI\n",
    "DOI = \"10.7910/DVN/3AIJKU\"\n",
    "\n",
    "# Fetch dataset metadata\n",
    "meta_url = \"https://dataverse.harvard.edu/api/datasets/:persistentId\"\n",
    "params = {\"persistentId\": f\"doi:{DOI}\"}\n",
    "resp = requests.get(meta_url, params=params)\n",
    "resp.raise_for_status()\n",
    "dataset = resp.json()[\"data\"]\n",
    "\n",
    "files = dataset['latestVersion']['files']"
   ]
  },
  {
   "cell_type": "markdown",
   "id": "1305e6f7",
   "metadata": {},
   "source": [
    "## Download Pretrained SimCLR Checkpoints"
   ]
  },
  {
   "cell_type": "code",
   "execution_count": 31,
   "id": "45931ba6",
   "metadata": {},
   "outputs": [
    {
     "name": "stdout",
     "output_type": "stream",
     "text": [
      "Downloading model_0.ckpt… Done\n",
      "Downloading model_1.ckpt… Done\n",
      "Downloading model_2.ckpt… Done\n",
      "Downloading model_3.ckpt… Done\n",
      "Downloading model_4.ckpt… Done\n",
      "Downloading model_5.ckpt… Done\n",
      "Downloading model_6.ckpt… Done\n",
      "Downloading model_7.ckpt… Done\n"
     ]
    }
   ],
   "source": [
    "# Filter only the SimCLR checkpoint files\n",
    "model_files = [\n",
    "    f for f in files\n",
    "    if f[\"label\"].startswith(\"model_\") and f[\"label\"].endswith(\".ckpt\")\n",
    "]\n",
    "\n",
    "# Create output directory\n",
    "out_dir = \"simclr_models\"\n",
    "os.makedirs(out_dir, exist_ok=True)\n",
    "\n",
    "for f in model_files:\n",
    "    file_id  = f[\"dataFile\"][\"id\"]\n",
    "    filename = f[\"label\"]\n",
    "    download_url = f\"https://dataverse.harvard.edu/api/access/datafile/{file_id}\"\n",
    "\n",
    "    print(f\"Downloading {filename}…\", end=\" \")\n",
    "    dl = requests.get(download_url, stream=True)\n",
    "    dl.raise_for_status()\n",
    "    with open(os.path.join(out_dir, filename), \"wb\") as fp:\n",
    "        for chunk in dl.iter_content(chunk_size=8192):\n",
    "            fp.write(chunk)\n",
    "    print(\"Done\")"
   ]
  },
  {
   "cell_type": "markdown",
   "id": "8621e267",
   "metadata": {},
   "source": [
    "## Download Pretrained MLP Models"
   ]
  },
  {
   "cell_type": "code",
   "execution_count": 3,
   "id": "1c6d1437",
   "metadata": {},
   "outputs": [
    {
     "name": "stdout",
     "output_type": "stream",
     "text": [
      "Downloading model_0.pt… Done\n",
      "Downloading model_1.pt… Done\n",
      "Downloading model_2.pt… Done\n",
      "Downloading model_3.pt… Done\n",
      "Downloading model_4.pt… Done\n"
     ]
    }
   ],
   "source": [
    "# Filter only the Dino+MLP model files\n",
    "mlp_files = [\n",
    "    f for f in files\n",
    "    if f[\"label\"].startswith(\"model_\") and f[\"label\"].endswith(\".pt\")\n",
    "]\n",
    "\n",
    "# Create output directory\n",
    "out_dir = \"dino_mlp_models\"\n",
    "os.makedirs(out_dir, exist_ok=True)\n",
    "\n",
    "for f in mlp_files:\n",
    "    file_id  = f[\"dataFile\"][\"id\"]\n",
    "    filename = f[\"label\"]\n",
    "    download_url = f\"https://dataverse.harvard.edu/api/access/datafile/{file_id}\"\n",
    "\n",
    "    print(f\"Downloading {filename}…\", end=\" \")\n",
    "    dl = requests.get(download_url, stream=True)\n",
    "    dl.raise_for_status()\n",
    "    with open(os.path.join(out_dir, filename), \"wb\") as fp:\n",
    "        for chunk in dl.iter_content(chunk_size=8192):\n",
    "            fp.write(chunk)\n",
    "    print(\"Done\")"
   ]
  },
  {
   "cell_type": "markdown",
   "id": "b861197b",
   "metadata": {},
   "source": [
    "## Download Labeled Data"
   ]
  },
  {
   "cell_type": "code",
   "execution_count": 4,
   "id": "5ed7997b",
   "metadata": {},
   "outputs": [
    {
     "name": "stdout",
     "output_type": "stream",
     "text": [
      "Downloading zdisc_contours_images.npy… Done\n",
      "Downloading zdisc_contours_labels.npy… Done\n"
     ]
    }
   ],
   "source": [
    "# Filter only the .npy data files\n",
    "npy_files = [\n",
    "    f for f in files\n",
    "    if f[\"label\"].endswith(\".npy\")\n",
    "]\n",
    "\n",
    "# Create output directory\n",
    "out_dir = \"labeled_data\"\n",
    "os.makedirs(out_dir, exist_ok=True)\n",
    "\n",
    "for f in npy_files:\n",
    "    file_id  = f[\"dataFile\"][\"id\"]\n",
    "    filename = f[\"label\"]\n",
    "    download_url = f\"https://dataverse.harvard.edu/api/access/datafile/{file_id}\"\n",
    "\n",
    "    print(f\"Downloading {filename}…\", end=\" \")\n",
    "    dl = requests.get(download_url, stream=True)\n",
    "    dl.raise_for_status()\n",
    "    with open(os.path.join(out_dir, filename), \"wb\") as fp:\n",
    "        for chunk in dl.iter_content(chunk_size=8192):\n",
    "            fp.write(chunk)\n",
    "    print(\"Done\")"
   ]
  }
 ],
 "metadata": {
  "kernelspec": {
   "display_name": "pytorch",
   "language": "python",
   "name": "python3"
  },
  "language_info": {
   "codemirror_mode": {
    "name": "ipython",
    "version": 3
   },
   "file_extension": ".py",
   "mimetype": "text/x-python",
   "name": "python",
   "nbconvert_exporter": "python",
   "pygments_lexer": "ipython3",
   "version": "3.9.23"
  }
 },
 "nbformat": 4,
 "nbformat_minor": 5
}
